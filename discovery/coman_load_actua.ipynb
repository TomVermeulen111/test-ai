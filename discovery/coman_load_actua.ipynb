{
 "cells": [
  {
   "cell_type": "code",
   "execution_count": 37,
   "metadata": {},
   "outputs": [],
   "source": [
    "import sys\n",
    "sys.path.insert(0, \"../app/coman\")\n",
    "import os\n",
    "from dotenv import load_dotenv\n",
    "from langchain_community.vectorstores.azuresearch import AzureSearch, AzureSearchVectorStoreRetriever\n",
    "from langchain_openai import AzureOpenAIEmbeddings\n",
    "from ActuaDocumentLoader import ActuaDocumentLoader\n",
    "from azure.search.documents.indexes.models import (\n",
    "    SearchableField,\n",
    "    SearchField,\n",
    "    SearchFieldDataType,\n",
    "    SimpleField,\n",
    ")"
   ]
  },
  {
   "cell_type": "code",
   "execution_count": 38,
   "metadata": {},
   "outputs": [],
   "source": [
    "load_dotenv()\n",
    "\n",
    "AZURE_SEARCH_KEY = str(os.getenv(\"AZURE_SEARCH_KEY\"))\n",
    "embeddings = AzureOpenAIEmbeddings(\n",
    "    azure_deployment=\"orisai-text-embedding-3-large-development\",\n",
    ")\n",
    "\n",
    "fields = [\n",
    "    SimpleField(\n",
    "        name=\"id\",\n",
    "        type=SearchFieldDataType.String,\n",
    "        key=True,\n",
    "        filterable=True,\n",
    "    ),\n",
    "    SearchableField(\n",
    "        name=\"content\",\n",
    "        type=SearchFieldDataType.String,\n",
    "        searchable=True,\n",
    "    ),\n",
    "    SearchField(\n",
    "        name=\"content_vector\",\n",
    "        type=SearchFieldDataType.Collection(SearchFieldDataType.Single),\n",
    "        searchable=True,\n",
    "        vector_search_dimensions=len(embeddings.embed_query(\"Text\")),\n",
    "        vector_search_profile_name=\"myHnswProfile\",\n",
    "    ),\n",
    "    SearchableField(\n",
    "        name=\"metadata\",\n",
    "        type=SearchFieldDataType.String,\n",
    "        searchable=True,\n",
    "    ),\n",
    "    SearchableField(\n",
    "        name=\"source\",\n",
    "        type=SearchFieldDataType.String,\n",
    "        searchable=False,\n",
    "        filterable=True,\n",
    "    ),\n",
    "    SearchableField(\n",
    "        name=\"test\",\n",
    "        type=SearchFieldDataType.String,\n",
    "        searchable=False,\n",
    "        filterable=True,\n",
    "    )\n",
    "]\n",
    "\n",
    "index_name: str = \"test-index-tom\"\n",
    "vector_store: AzureSearch = AzureSearch(\n",
    "    azure_search_endpoint=\"https://orisai-search-development.search.windows.net\",\n",
    "    azure_search_key=AZURE_SEARCH_KEY,\n",
    "    index_name=index_name,\n",
    "    embedding_function=embeddings.embed_query,\n",
    "    fields=fields\n",
    ")"
   ]
  },
  {
   "cell_type": "code",
   "execution_count": 39,
   "metadata": {},
   "outputs": [
    {
     "data": {
      "text/plain": [
       "[Document(page_content='Brusselse woonfiscaliteit wordt op 1 januari 2023 hervormd <p>Brussels minister van Financiën Sven Gatz stelt een fiscale hervorming in het vooruitzicht voor het jaareinde. Daarbij wordt gesleuteld aan het abattement in de registratierechten. Het doel is om de aankoop van de eerste gezinswoning goedkoper te maken. De teksten liggen momenteel voor bij diverse adviesraden en moeten vervolgens nog naar het Brussels parlement.&nbsp;</p> <p>Volgens de informatie die minister Gatz wereldkundig heeft gemaakt bestaat de hervorming uit drie wijzigingen aan het abattement op de registratierechten. We herinneren kort hoe die regeling vandaag in elkaar zit.</p><h3><strong>Wat is het abattement?</strong></h3><p>Het abattement is gelijk te stellen aan een belastingvoetvrijstelling van €175.000. Concreet mag een koper die €175.000 aftrekken van de aankoopprijs om vervolgens op het restant het tarief van 12,5% toe te passen. Het fiscaal voordeel bedraagt zo maximaal €21.875. We schrijven ‘maximaal’ omdat bij een aankoop voor minder dan €175.000 het abattement beperkt wordt tot de hoogte van het aankoopbedrag. Al zijn er nu ook niet zoveel aankopen voor een lager bedrag in het Brussels Gewest.</p><p>Alleen natuurlijke personen, die een woning kopen om er binnen een termijn van 2 jaar de hoofdverblijfplaats te vestigen, komen in aanmerking. Bouwgronden en aankopen op plan of van gebouwen in aanbouw kunnen ook onder het abattement vallen. Dan wordt de termijn voor de inschrijving in het bevolkings- of vreemdelingenregister verlengd tot drie jaar.</p><p>Aan het abattement zijn nog een aantal andere voorwaarden verbonden: aankoop voor de geheelheid, niet reeds eigenaar zijn van een andere woning en het behoud van de hoofdverblijfplaats gedurende minstens 5 jaar.</p><p>Een belangrijke laatste voorwaarde heeft betrekking op de verkoopprijs. Alleen woningen aangekocht voor maximaal €500.000 komen in aanmerking. Is de verkoopprijs hoger, dan vervalt het recht op het abattement.</p><h3><strong>Concrete wijzigingen vanaf 2023</strong></h3><p>De drie wijzigingen die – als alles goed gaat – op 1 januari 2023 van kracht zullen worden, zijn:</p><ul><li>Verhoging van het bedrag van het abattement: van €175.000 naar €200.000</li><li>Verhoging van de maximale verkoopwaarde: van €500.000 naar €600.000</li><li>Introductie van een bijkomend abattement</li></ul><p>&nbsp;</p><p>Dit bijkomend abattement heeft tot doel om energierenovatie te stimuleren. Het zou bestaan uit een voetvrijstelling van €25.000 per bij de renovatie verwezenlijkte verbetering van energieklasse, mits een verbetering van minstens 2 sprongen, bijvoorbeeld van energieklasse D naar klasse B. In geval van energetische renovatie krijgt de koper bovendien 5 jaar de tijd om zich in de woning te domiciliëren, in plaats van 2.</p><p>Een laatste wijziging heeft betrekking op de sanctie in geval van het doorbreken van de voorwaarde om vanaf de domiciliëring nog gedurende minstens 5 jaar in de woning te blijven wonen. Nu moeten de kopers in dat scenario het volledige fiscale voordeel van het abattement terugbetalen. Vanaf 1 januari 2023 wordt het anders: dan zal slechts een bedrag gevorderd worden a rato van de resterende termijn. Bijvoorbeeld: de koper verhuist na drie jaar. Dan zal hij/zij 2/5de van het bedrag van het abattement moeten terugbetalen.</p> ', metadata={'source': '72ab41b1-3300-4da5-b7de-acc4553aa2b2'}),\n",
       " Document(page_content='Nooit eerder verhuisden zoveel Brusselaars naar Vlaanderen <ul><li><strong>Recordaantal van 24.000 Brusselaars verhuisden vorig jaar naar Vlaanderen</strong></li><li><strong>Hoge prijzen in Brussel drijven inwoners naar Vlaamse rand en Vlaanderen.</strong></li><li><strong>Effect van corona en gewijzigde woonwensen stevig zichtbaar in verhuisbewegingen 2021.</strong></li><li><strong>Ook fiscale factoren doen Brusselaars voor Vlaanderen kiezen.</strong></li><li><strong>Brusselse huurmarkt eveneens onder druk door krapte.&nbsp;</strong></li></ul><p><strong>Nog nooit verhuisden zoveel Brusselaars naar Vlaanderen als in 2021. Vorig jaar verhuisden maar liefst 24.000 Brusselaars naar Vlaanderen, een recordaantal.&nbsp;Dat stelt CIB Vlaanderen, die de jaarlijkse cijfers van de&nbsp;FOD Binnenlandse zaken onderzocht. De stadsvlucht na corona en toegenomen vraag naar woningen met tuin of terras zijn volgens de sectorvertegenwoordiger van de vastgoedsector de belangrijkste verklaring voor de grote verhuisbeweging. De aankondigde verlaging van de registratierechten in Brussel vanaf 2023 komt duidelijk geen dag te vroeg.</strong></p> <p>2021 was over het algemeen een recordjaar voor wat verhuisbewegingen betreft. Maar liefst 68.940 verhuizingen vonden plaats tussen de gewesten. Het gaat om het hoogst aantal verhuisbewegingen sinds 2009. “Meer dan de helft van die verhuisbewegingen zijn Brusselaars die naar Vlaanderen en Wallonië trokken”, stelt CIB Vlaanderen vast.</p><p>Vooral de uittocht van Brusselaars richting Vlaanderen springt daarbij in het oog. In 2021 verhuisde een recordaantal van 23.980 Brusselaars naar Vlaanderen. “Sinds 2011 is het aantal Brusselaars dat zich in Vlaanderen vestigt stelselmatig gestegen. Enkel tijdens het coronajaar 2020&nbsp; viel een logische, kleine terugval op te tekenen. Daarvan viel in 2021 nog weinig te merken. Vorig jaar zette zich een enorme inhaalbeweging in. &nbsp;De verschuivingen in woonwensen van kandidaat-kopers tijdens de coronacrisis zijn daar volgens CIB Vlaanderen de belangrijkste verklaring. Zo zien de vastgoedmakelaars sinds corona opvallend veel meer vraag naar woningen met tuin en appartementen met terras. &nbsp;In die zoektocht verlaten kopers steeds vaker de stad en zoeken ze hun toevlucht tot woningen in buitengebieden”, aldus Kristophe Thijs, directeur Communicatie van CIB Vlaanderen. De trend lijkt zich in 2022 gewoon door te zetten, want in de eerste vijf maanden van dit jaar verhuisden al een kleine 10.000 Brusselaars naar Vlaanderen.</p><p>De verhuis van Brusselaars naar Vlaanderen is dan ook opvallend groter dan het aantal Vlamingen dat de omgekeerde beweging maakt: het verschil bedraagt meer dan 15.000 verhuisbewegingen. 8.551 Vlamingen kozen in 2021 voor Brussel als nieuwe woonplaats. Sinds 2011 is het aantal verhuisbewegingen van Vlamingen richting Brussel min of meer constant gebleven, afgezien van een logische daling tijdens het coronajaar 2020.</p><h3><strong>Vlaanderen trekt aan</strong></h3><p>Tel je er nog de verhuisbewegingen vanuit Wallonië bij, dan kom je aan meer dan 32.000 landgenoten die zich in Vlaanderen hebben gevestigd. Dat terwijl er iets minder dan 16.000 Vlamingen zijn vertrokken naar de andere gewesten. Er zijn dus ongeveer 16.000 meer Brusselaars en Walen bijgekomen dan er Vlamingen zijn vertrokken. In 2009 was dat verschil ongeveer 6.500.</p><p>Kijk je naar 2009, dan valt op dat alleen het aantal van de verhuisbewegingen naar Vlaanderen is toegenomen. De uittocht naar Brussel of Wallonië lag in 2021 telkens een heel stuk lager dan negen jaar geleden.&nbsp;</p><h3><strong>Verklaringen</strong></h3><p>Één verklaring voor deze trends is er niet. Heel wat factoren dragen ertoe bij:&nbsp;</p><ol><li>Vastgoedkantoren in de Vlaamse Rand rond Brussel wijzen echter steevast op de impact van de prijzen van huizen en appartementen. Die zouden Brusselaars voor de Vlaamse woningmarkt doen kiezen. Recent berekende de krant De Tijd nog dat een Brussels gezin zowat 81% van het inkomen moet besteden aan de afbetaling van een huis met een gemiddelde prijs van 566.000 euro voor een huis. Appartementen zijn er de helft goedkoper, maar blijven in vergelijking met de andere gewesten duur. De inwoners van duurdere gemeenten van het Brussels Gewest (Woluwe, Oudergem, Watermaal-Bosvoorde) zoeken bijvoorbeeld vaak hun toevlucht in de Vlaamse rand net buiten Brussel (Tervuren, Hoeilaar, Sterrebeek, Kraainem) waar ze waar voor hun geld krijgen, met daarbovenop een vlotte verbinding naar de hoofdstad.&nbsp;</li><li>Ook het effect van corona komt sterk tot uiting in deze cijfers. Een verhuisbeweging kan pas vastgesteld worden minimum 4 maanden na de aankoop. Verhuizen kan pas na het verlijden van de akte.&nbsp; Net na de eerste lockdown in 2020 hebben er vele aankopen in de Vlaamse rand plaatsgevonden.&nbsp; Deze zijn vooral door Brusselaars gebeurd die toen massaal naar woningen met tuin zochten en soms ver boven de vraagprijs boden.&nbsp; Deze zijn pas zichtbaar in de cijfers van 2021.</li><li>Fiscale factoren spelen eveneens een rol. Naast de peperdure woningprijzen heft het Brusselse gewest ook nog eens de hoogste registratierechten. Zo betaal je in Vlaanderen 3% registratierechten en in Brussel 12,5%. Brussel compenseert dit wel door de zogenaamde abattementen (som waarop geen belasting wordt betaald). Vandaag de dag moet er op de eerste 175.000 euro van de woningprijs geen belasting worden betaald. Vanaf 2023 is dat op de eerste 200.000 euro. “Een positieve evolutie, maar het is de vraag of dat de Brusselse uittocht zal afremmen”, meent Thijs. “De voorbije tien jaar zien we het aantal Brusselaars dat richting Vlaanderen trekt jaar na jaar toenemen. De gewijzigde woonwensen zullen dit mogelijk nog extra stimuleren.”</li><li>Qua verhuur zien we een zelfde beweging.&nbsp; Vele huurwoningen in de rand zijn veel betaalbaarder dan in de hoofdstad en bieden een beter comfort.&nbsp; En dit net nu de Brusselse regering wat huur betreft met nieuwe wetgeving bezig is die de huurprijzen aan banden zou kunnen leggen, de zogenaamde huurprijsregulering.&nbsp;“Een oplossing die er geen is, want als er dan minder investeerders beleggen om te verhuren in Brussel omwille van een huurprijs die door de overheid aan banden wordt gelegd, &nbsp;zal dat de krapte aan huurwoningen in Brussel enkel maar bestendigen”, benadrukt Thijs</li></ol><p>&nbsp;</p><figure class=\"table\"><table><thead><tr><th>&nbsp;</th><th>2009</th><th>2010</th><th>2011</th><th>2012</th><th>2013</th><th>2014</th><th>2015</th><th>2016</th><th>2017</th><th>2018</th><th>2019</th><th>2020</th><th>2021</th></tr></thead><tbody><tr><th>VL -&gt; WL</th><td>8.705</td><td>8.030</td><td>7.044</td><td>7.351</td><td>7.218</td><td>6.949</td><td>6.758</td><td>7.016</td><td>6.920</td><td>7.542</td><td>7.324</td><td>6.785</td><td>7.172</td></tr><tr><th>VL -&gt; BR</th><td>11.363</td><td>10.016</td><td>7.509</td><td>7.796</td><td>8.530</td><td>7.885</td><td>7.689</td><td>8.295</td><td>7.621</td><td>8.611</td><td>8.733</td><td>7.463</td><td>8.551</td></tr><tr><th>WL -&gt; VL</th><td>7.294</td><td>7.148</td><td>6.466</td><td>6.712</td><td>7.037</td><td>6.790</td><td>7.463</td><td>9.198</td><td>8.894</td><td>8.848</td><td>8.315</td><td>7.651</td><td>8.709</td></tr><tr><th>WL -&gt; BR</th><td>10.473</td><td>9.211</td><td>7.229</td><td>7.337</td><td>7.954</td><td>7.046</td><td>7.177</td><td>7.432</td><td>7.282</td><td>7.768</td><td>7.788</td><td>6.344</td><td>7.197</td></tr><tr><th>BR -&gt; VL</th><td>19.391</td><td>18.925</td><td>16.706</td><td>16.817</td><td>17.421</td><td>17.318</td><td>18.499</td><td>20.094</td><td>20.735</td><td>21.700</td><td>21.902</td><td>21.616</td><td>23.980</td></tr><tr><th>BR -&gt; WL</th><td>14.666</td><td>13.916</td><td>11.890</td><td>12.117</td><td>11.897</td><td>12.112</td><td>11.678</td><td>11.805</td><td>11.839</td><td>12.781</td><td>12.292</td><td>11.757</td><td>13.331</td></tr><tr><th><strong>Totaal</strong></th><td><strong>71.892</strong></td><td><strong>67.246</strong></td><td><strong>56.824</strong></td><td><strong>58.130</strong></td><td><strong>60.057</strong></td><td><strong>58.100</strong></td><td><strong>59.264</strong></td><td><strong>63.840</strong></td><td><strong>63.291</strong></td><td><strong>67.250</strong></td><td><strong>66.354</strong></td><td><strong>61.616</strong></td><td><strong>68.940</strong></td></tr></tbody></table></figure> ', metadata={'source': '930c6d50-7e09-4468-802a-1e70e58c57fa'}),\n",
       " Document(page_content='Brusselse woonfiscaliteit wordt op 1 januari 2023 hervormd <p>Brussels minister van Financiën Sven Gatz stelt een fiscale hervorming in het vooruitzicht voor het jaareinde. Daarbij wordt gesleuteld aan het abattement in de registratierechten. Het doel is om de aankoop van de eerste gezinswoning goedkoper te maken. De teksten liggen momenteel voor bij diverse adviesraden en moeten vervolgens nog naar het Brussels parlement.&nbsp;</p> <p>Volgens de informatie die minister Gatz wereldkundig heeft gemaakt bestaat de hervorming uit drie wijzigingen aan het abattement op de registratierechten. We herinneren kort hoe die regeling vandaag in elkaar zit.</p><h3><strong>Wat is het abattement?</strong></h3><p>Het abattement is gelijk te stellen aan een belastingvoetvrijstelling van €175.000. Concreet mag een koper die €175.000 aftrekken van de aankoopprijs om vervolgens op het restant het tarief van 12,5% toe te passen. Het fiscaal voordeel bedraagt zo maximaal €21.875. We schrijven ‘maximaal’ omdat bij een aankoop voor minder dan €175.000 het abattement beperkt wordt tot de hoogte van het aankoopbedrag. Al zijn er nu ook niet zoveel aankopen voor een lager bedrag in het Brussels Gewest.</p><p>Alleen natuurlijke personen, die een woning kopen om er binnen een termijn van 2 jaar de hoofdverblijfplaats te vestigen, komen in aanmerking. Bouwgronden en aankopen op plan of van gebouwen in aanbouw kunnen ook onder het abattement vallen. Dan wordt de termijn voor de inschrijving in het bevolkings- of vreemdelingenregister verlengd tot drie jaar.</p><p>Aan het abattement zijn nog een aantal andere voorwaarden verbonden: aankoop voor de geheelheid, niet reeds eigenaar zijn van een andere woning en het behoud van de hoofdverblijfplaats gedurende minstens 5 jaar.</p><p>Een belangrijke laatste voorwaarde heeft betrekking op de verkoopprijs. Alleen woningen aangekocht voor maximaal €500.000 komen in aanmerking. Is de verkoopprijs hoger, dan vervalt het recht op het abattement.</p><h3><strong>Concrete wijzigingen vanaf 2023</strong></h3><p>De drie wijzigingen die – als alles goed gaat – op 1 januari 2023 van kracht zullen worden, zijn:</p><ul><li>Verhoging van het bedrag van het abattement: van €175.000 naar €200.000</li><li>Verhoging van de maximale verkoopwaarde: van €500.000 naar €600.000</li><li>Introductie van een bijkomend abattement</li></ul><p>&nbsp;</p><p>Dit bijkomend abattement heeft tot doel om energierenovatie te stimuleren. Het zou bestaan uit een voetvrijstelling van €25.000 per bij de renovatie verwezenlijkte verbetering van energieklasse, mits een verbetering van minstens 2 sprongen, bijvoorbeeld van energieklasse D naar klasse B. In geval van energetische renovatie krijgt de koper bovendien 5 jaar de tijd om zich in de woning te domiciliëren, in plaats van 2.</p><p>Een laatste wijziging heeft betrekking op de sanctie in geval van het doorbreken van de voorwaarde om vanaf de domiciliëring nog gedurende minstens 5 jaar in de woning te blijven wonen. Nu moeten de kopers in dat scenario het volledige fiscale voordeel van het abattement terugbetalen. Vanaf 1 januari 2023 wordt het anders: dan zal slechts een bedrag gevorderd worden a rato van de resterende termijn. Bijvoorbeeld: de koper verhuist na drie jaar. Dan zal hij/zij 2/5de van het bedrag van het abattement moeten terugbetalen.</p> ', metadata={'source': '72ab41b1-3300-4da5-b7de-acc4553aa2b2'}),\n",
       " Document(page_content='Nooit eerder verhuisden zoveel Brusselaars naar Vlaanderen <ul><li><strong>Recordaantal van 24.000 Brusselaars verhuisden vorig jaar naar Vlaanderen</strong></li><li><strong>Hoge prijzen in Brussel drijven inwoners naar Vlaamse rand en Vlaanderen.</strong></li><li><strong>Effect van corona en gewijzigde woonwensen stevig zichtbaar in verhuisbewegingen 2021.</strong></li><li><strong>Ook fiscale factoren doen Brusselaars voor Vlaanderen kiezen.</strong></li><li><strong>Brusselse huurmarkt eveneens onder druk door krapte.&nbsp;</strong></li></ul><p><strong>Nog nooit verhuisden zoveel Brusselaars naar Vlaanderen als in 2021. Vorig jaar verhuisden maar liefst 24.000 Brusselaars naar Vlaanderen, een recordaantal.&nbsp;Dat stelt CIB Vlaanderen, die de jaarlijkse cijfers van de&nbsp;FOD Binnenlandse zaken onderzocht. De stadsvlucht na corona en toegenomen vraag naar woningen met tuin of terras zijn volgens de sectorvertegenwoordiger van de vastgoedsector de belangrijkste verklaring voor de grote verhuisbeweging. De aankondigde verlaging van de registratierechten in Brussel vanaf 2023 komt duidelijk geen dag te vroeg.</strong></p> <p>2021 was over het algemeen een recordjaar voor wat verhuisbewegingen betreft. Maar liefst 68.940 verhuizingen vonden plaats tussen de gewesten. Het gaat om het hoogst aantal verhuisbewegingen sinds 2009. “Meer dan de helft van die verhuisbewegingen zijn Brusselaars die naar Vlaanderen en Wallonië trokken”, stelt CIB Vlaanderen vast.</p><p>Vooral de uittocht van Brusselaars richting Vlaanderen springt daarbij in het oog. In 2021 verhuisde een recordaantal van 23.980 Brusselaars naar Vlaanderen. “Sinds 2011 is het aantal Brusselaars dat zich in Vlaanderen vestigt stelselmatig gestegen. Enkel tijdens het coronajaar 2020&nbsp; viel een logische, kleine terugval op te tekenen. Daarvan viel in 2021 nog weinig te merken. Vorig jaar zette zich een enorme inhaalbeweging in. &nbsp;De verschuivingen in woonwensen van kandidaat-kopers tijdens de coronacrisis zijn daar volgens CIB Vlaanderen de belangrijkste verklaring. Zo zien de vastgoedmakelaars sinds corona opvallend veel meer vraag naar woningen met tuin en appartementen met terras. &nbsp;In die zoektocht verlaten kopers steeds vaker de stad en zoeken ze hun toevlucht tot woningen in buitengebieden”, aldus Kristophe Thijs, directeur Communicatie van CIB Vlaanderen. De trend lijkt zich in 2022 gewoon door te zetten, want in de eerste vijf maanden van dit jaar verhuisden al een kleine 10.000 Brusselaars naar Vlaanderen.</p><p>De verhuis van Brusselaars naar Vlaanderen is dan ook opvallend groter dan het aantal Vlamingen dat de omgekeerde beweging maakt: het verschil bedraagt meer dan 15.000 verhuisbewegingen. 8.551 Vlamingen kozen in 2021 voor Brussel als nieuwe woonplaats. Sinds 2011 is het aantal verhuisbewegingen van Vlamingen richting Brussel min of meer constant gebleven, afgezien van een logische daling tijdens het coronajaar 2020.</p><h3><strong>Vlaanderen trekt aan</strong></h3><p>Tel je er nog de verhuisbewegingen vanuit Wallonië bij, dan kom je aan meer dan 32.000 landgenoten die zich in Vlaanderen hebben gevestigd. Dat terwijl er iets minder dan 16.000 Vlamingen zijn vertrokken naar de andere gewesten. Er zijn dus ongeveer 16.000 meer Brusselaars en Walen bijgekomen dan er Vlamingen zijn vertrokken. In 2009 was dat verschil ongeveer 6.500.</p><p>Kijk je naar 2009, dan valt op dat alleen het aantal van de verhuisbewegingen naar Vlaanderen is toegenomen. De uittocht naar Brussel of Wallonië lag in 2021 telkens een heel stuk lager dan negen jaar geleden.&nbsp;</p><h3><strong>Verklaringen</strong></h3><p>Één verklaring voor deze trends is er niet. Heel wat factoren dragen ertoe bij:&nbsp;</p><ol><li>Vastgoedkantoren in de Vlaamse Rand rond Brussel wijzen echter steevast op de impact van de prijzen van huizen en appartementen. Die zouden Brusselaars voor de Vlaamse woningmarkt doen kiezen. Recent berekende de krant De Tijd nog dat een Brussels gezin zowat 81% van het inkomen moet besteden aan de afbetaling van een huis met een gemiddelde prijs van 566.000 euro voor een huis. Appartementen zijn er de helft goedkoper, maar blijven in vergelijking met de andere gewesten duur. De inwoners van duurdere gemeenten van het Brussels Gewest (Woluwe, Oudergem, Watermaal-Bosvoorde) zoeken bijvoorbeeld vaak hun toevlucht in de Vlaamse rand net buiten Brussel (Tervuren, Hoeilaar, Sterrebeek, Kraainem) waar ze waar voor hun geld krijgen, met daarbovenop een vlotte verbinding naar de hoofdstad.&nbsp;</li><li>Ook het effect van corona komt sterk tot uiting in deze cijfers. Een verhuisbeweging kan pas vastgesteld worden minimum 4 maanden na de aankoop. Verhuizen kan pas na het verlijden van de akte.&nbsp; Net na de eerste lockdown in 2020 hebben er vele aankopen in de Vlaamse rand plaatsgevonden.&nbsp; Deze zijn vooral door Brusselaars gebeurd die toen massaal naar woningen met tuin zochten en soms ver boven de vraagprijs boden.&nbsp; Deze zijn pas zichtbaar in de cijfers van 2021.</li><li>Fiscale factoren spelen eveneens een rol. Naast de peperdure woningprijzen heft het Brusselse gewest ook nog eens de hoogste registratierechten. Zo betaal je in Vlaanderen 3% registratierechten en in Brussel 12,5%. Brussel compenseert dit wel door de zogenaamde abattementen (som waarop geen belasting wordt betaald). Vandaag de dag moet er op de eerste 175.000 euro van de woningprijs geen belasting worden betaald. Vanaf 2023 is dat op de eerste 200.000 euro. “Een positieve evolutie, maar het is de vraag of dat de Brusselse uittocht zal afremmen”, meent Thijs. “De voorbije tien jaar zien we het aantal Brusselaars dat richting Vlaanderen trekt jaar na jaar toenemen. De gewijzigde woonwensen zullen dit mogelijk nog extra stimuleren.”</li><li>Qua verhuur zien we een zelfde beweging.&nbsp; Vele huurwoningen in de rand zijn veel betaalbaarder dan in de hoofdstad en bieden een beter comfort.&nbsp; En dit net nu de Brusselse regering wat huur betreft met nieuwe wetgeving bezig is die de huurprijzen aan banden zou kunnen leggen, de zogenaamde huurprijsregulering.&nbsp;“Een oplossing die er geen is, want als er dan minder investeerders beleggen om te verhuren in Brussel omwille van een huurprijs die door de overheid aan banden wordt gelegd, &nbsp;zal dat de krapte aan huurwoningen in Brussel enkel maar bestendigen”, benadrukt Thijs</li></ol><p>&nbsp;</p><figure class=\"table\"><table><thead><tr><th>&nbsp;</th><th>2009</th><th>2010</th><th>2011</th><th>2012</th><th>2013</th><th>2014</th><th>2015</th><th>2016</th><th>2017</th><th>2018</th><th>2019</th><th>2020</th><th>2021</th></tr></thead><tbody><tr><th>VL -&gt; WL</th><td>8.705</td><td>8.030</td><td>7.044</td><td>7.351</td><td>7.218</td><td>6.949</td><td>6.758</td><td>7.016</td><td>6.920</td><td>7.542</td><td>7.324</td><td>6.785</td><td>7.172</td></tr><tr><th>VL -&gt; BR</th><td>11.363</td><td>10.016</td><td>7.509</td><td>7.796</td><td>8.530</td><td>7.885</td><td>7.689</td><td>8.295</td><td>7.621</td><td>8.611</td><td>8.733</td><td>7.463</td><td>8.551</td></tr><tr><th>WL -&gt; VL</th><td>7.294</td><td>7.148</td><td>6.466</td><td>6.712</td><td>7.037</td><td>6.790</td><td>7.463</td><td>9.198</td><td>8.894</td><td>8.848</td><td>8.315</td><td>7.651</td><td>8.709</td></tr><tr><th>WL -&gt; BR</th><td>10.473</td><td>9.211</td><td>7.229</td><td>7.337</td><td>7.954</td><td>7.046</td><td>7.177</td><td>7.432</td><td>7.282</td><td>7.768</td><td>7.788</td><td>6.344</td><td>7.197</td></tr><tr><th>BR -&gt; VL</th><td>19.391</td><td>18.925</td><td>16.706</td><td>16.817</td><td>17.421</td><td>17.318</td><td>18.499</td><td>20.094</td><td>20.735</td><td>21.700</td><td>21.902</td><td>21.616</td><td>23.980</td></tr><tr><th>BR -&gt; WL</th><td>14.666</td><td>13.916</td><td>11.890</td><td>12.117</td><td>11.897</td><td>12.112</td><td>11.678</td><td>11.805</td><td>11.839</td><td>12.781</td><td>12.292</td><td>11.757</td><td>13.331</td></tr><tr><th><strong>Totaal</strong></th><td><strong>71.892</strong></td><td><strong>67.246</strong></td><td><strong>56.824</strong></td><td><strong>58.130</strong></td><td><strong>60.057</strong></td><td><strong>58.100</strong></td><td><strong>59.264</strong></td><td><strong>63.840</strong></td><td><strong>63.291</strong></td><td><strong>67.250</strong></td><td><strong>66.354</strong></td><td><strong>61.616</strong></td><td><strong>68.940</strong></td></tr></tbody></table></figure> ', metadata={'source': '930c6d50-7e09-4468-802a-1e70e58c57fa'})]"
      ]
     },
     "execution_count": 39,
     "metadata": {},
     "output_type": "execute_result"
    }
   ],
   "source": [
    "retriever = vector_store.as_retriever(search_kwargs={\"k\": 1})\n",
    "retriever.invoke(\"wat is de brusselse woonfiscaliteit\")"
   ]
  },
  {
   "cell_type": "code",
   "execution_count": 62,
   "metadata": {},
   "outputs": [
    {
     "data": {
      "text/plain": [
       "[]"
      ]
     },
     "execution_count": 62,
     "metadata": {},
     "output_type": "execute_result"
    }
   ],
   "source": [
    "retriever = AzureSearchVectorStoreRetriever(vectorstore=vector_store, k=2)\n",
    "\n",
    "\n",
    "retriever.invoke(\"wat is de brusselse woonfiscaliteit\", filters=\"source eq '1234'\")"
   ]
  },
  {
   "cell_type": "code",
   "execution_count": null,
   "metadata": {},
   "outputs": [],
   "source": [
    "\n",
    "loader = ActuaDocumentLoader(\"https://dev-coman-api.immo-connect.be/v1/odata/contentitem?$count=true&$orderby=DateCreated%20desc&$skip=0&$top=25&$expand=Values,Scheme&$filter=(Scheme/Id%20eq%201482edab-dac9-4400-bcd7-ab2dd28b96d2)%20and%20(Status%20eq%20%27Active%27)\")\n",
    "\n",
    "documents = loader.lazy_load()\n",
    "print(documents)\n",
    "for document in documents:\n",
    "    print(document.metadata)"
   ]
  },
  {
   "cell_type": "code",
   "execution_count": null,
   "metadata": {},
   "outputs": [],
   "source": [
    "vector_store.add_documents(documents)"
   ]
  },
  {
   "cell_type": "code",
   "execution_count": 32,
   "metadata": {},
   "outputs": [
    {
     "name": "stdout",
     "output_type": "stream",
     "text": [
      "[Document(page_content='Uit het parlement: kan indexering huurprijzen gekoppeld worden aan energieprestatie? <p>De hoge inflatie is in sterke mate toe te schrijven aan de almaar stijgende energieprijzen. De energieprijzen doen ook de gezondheidsindex stijgen, die wordt gehanteerd als basis voor de indexering van de huurprijzen. Huurders krijgen dus tweemaal de rekening gepresenteerd. Een voorstel van Comeos, die de Belgische handel en diensten vertegenwoordigt, beoogt dit recht te trekken.</p> <p>In de Commissie voor Wonen en Onroerend Erfgoed van het Vlaamse Parlement vormde het voorstel van Comeos om de indexering te koppelen aan de energiescore van het pand voer voor debat. In het voorstel van Comeos hangt de mate waarin indexering kan toegepast worden af van de EPC-score van het verhuurde pand. Voor eigendommen die goed scoren, minstens een A-score, kan de volledige indexatie doorgerekend worden. Voor eigendommen die minder energie-efficiënt scoren zal de energiecomponent uit de gezondheidsindex gehaald worden m.o.o. indexering. Een dergelijk indexeringsmechanisme zou bovendien een incentive zijn voor de verhuurders om de panden energiezuiniger te maken.&nbsp;</p><p>Vlaams minister Matthias Diependaele leek niet gewonnen voor het idee waarbij wordt gesleuteld aan het indexatiemechanisme van de huurprijzen. Minister Diependaele vreest dat een wijziging aan de indexatie het voor verhuurders minder aantrekkelijk maakt om een pand te verhuren met een mogelijkse inkrimping van de huurmarkt tot gevolg: “<i>Het beginsel van indexering van de huurprijzen strekt er immers toe de huurprijs aan te passen aan de kosten van levensonderhoud, die worden weerspiegeld in de gezondheidsindex. Dat beginsel is een maatregel met het oog op het vrijwaren van een evenwicht tussen de belangen van de eigenaars en die van de huurders. Ik vrees dus dat als er wordt gesleuteld aan de indexatie, het risico bestaat dat verhuurders zich terugtrekken uit de huurmarkt</i>.”&nbsp;</p><p>Wat betreft de verduurzaming die beoogd wordt door het voorstel wijst de Vlaams minister op de inspanningen en initiatieven van de Vlaamse regering, zoals de nieuwe ‘Mijn VerbouwPremie’, de ‘Mijn VerbouwLening’ en in de toekomst ‘Mijn VerbouwLoket’. Daarnaast voorziet het Vlaamse Woninghuurdecreet&nbsp; specifiek voor de private huurmarkt in de mogelijkheid om de huurprijs te herzien na energiebesparende maatregelen.</p><p>Minister Diependaele gaf ook te kennen bezig te zijn met het uitwerken van een voorstel van het gefaseerd invoeren van een minimale energienorm voor woningen vanaf 2025. De sanctie voor woningen die de energienorm niet halen zou ongeschiktverklaring zijn. Bovendien zal het voorstel voorzien dat het verhuren, te huur of ter beschikking stellen van zulke woningen strafbaar gesteld wordt.</p> ', metadata={'source': '547c540c-af51-4bbb-9476-1291977ebe1a'}), Document(page_content='Uit het parlement: kan indexering huurprijzen gekoppeld worden aan energieprestatie? <p>De hoge inflatie is in sterke mate toe te schrijven aan de almaar stijgende energieprijzen. De energieprijzen doen ook de gezondheidsindex stijgen, die wordt gehanteerd als basis voor de indexering van de huurprijzen. Huurders krijgen dus tweemaal de rekening gepresenteerd. Een voorstel van Comeos, die de Belgische handel en diensten vertegenwoordigt, beoogt dit recht te trekken.</p> <p>In de Commissie voor Wonen en Onroerend Erfgoed van het Vlaamse Parlement vormde het voorstel van Comeos om de indexering te koppelen aan de energiescore van het pand voer voor debat. In het voorstel van Comeos hangt de mate waarin indexering kan toegepast worden af van de EPC-score van het verhuurde pand. Voor eigendommen die goed scoren, minstens een A-score, kan de volledige indexatie doorgerekend worden. Voor eigendommen die minder energie-efficiënt scoren zal de energiecomponent uit de gezondheidsindex gehaald worden m.o.o. indexering. Een dergelijk indexeringsmechanisme zou bovendien een incentive zijn voor de verhuurders om de panden energiezuiniger te maken.&nbsp;</p><p>Vlaams minister Matthias Diependaele leek niet gewonnen voor het idee waarbij wordt gesleuteld aan het indexatiemechanisme van de huurprijzen. Minister Diependaele vreest dat een wijziging aan de indexatie het voor verhuurders minder aantrekkelijk maakt om een pand te verhuren met een mogelijkse inkrimping van de huurmarkt tot gevolg: “<i>Het beginsel van indexering van de huurprijzen strekt er immers toe de huurprijs aan te passen aan de kosten van levensonderhoud, die worden weerspiegeld in de gezondheidsindex. Dat beginsel is een maatregel met het oog op het vrijwaren van een evenwicht tussen de belangen van de eigenaars en die van de huurders. Ik vrees dus dat als er wordt gesleuteld aan de indexatie, het risico bestaat dat verhuurders zich terugtrekken uit de huurmarkt</i>.”&nbsp;</p><p>Wat betreft de verduurzaming die beoogd wordt door het voorstel wijst de Vlaams minister op de inspanningen en initiatieven van de Vlaamse regering, zoals de nieuwe ‘Mijn VerbouwPremie’, de ‘Mijn VerbouwLening’ en in de toekomst ‘Mijn VerbouwLoket’. Daarnaast voorziet het Vlaamse Woninghuurdecreet&nbsp; specifiek voor de private huurmarkt in de mogelijkheid om de huurprijs te herzien na energiebesparende maatregelen.</p><p>Minister Diependaele gaf ook te kennen bezig te zijn met het uitwerken van een voorstel van het gefaseerd invoeren van een minimale energienorm voor woningen vanaf 2025. De sanctie voor woningen die de energienorm niet halen zou ongeschiktverklaring zijn. Bovendien zal het voorstel voorzien dat het verhuren, te huur of ter beschikking stellen van zulke woningen strafbaar gesteld wordt.</p> ', metadata={'source': '547c540c-af51-4bbb-9476-1291977ebe1a'})]\n"
     ]
    }
   ],
   "source": [
    "docs = vector_store.vector_search(\"Wanneer wordt Brusselse woonfiscaliteit hervormd?\", k=5, filters=\"source eq '547c540c-af51-4bbb-9476-1291977ebe1a'\",\n",
    "    score_threshold=0.5)\n",
    "print(docs)"
   ]
  }
 ],
 "metadata": {
  "kernelspec": {
   "display_name": ".venv",
   "language": "python",
   "name": "python3"
  },
  "language_info": {
   "codemirror_mode": {
    "name": "ipython",
    "version": 3
   },
   "file_extension": ".py",
   "mimetype": "text/x-python",
   "name": "python",
   "nbconvert_exporter": "python",
   "pygments_lexer": "ipython3",
   "version": "3.11.9"
  }
 },
 "nbformat": 4,
 "nbformat_minor": 2
}
