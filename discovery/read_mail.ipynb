{
 "cells": [
  {
   "cell_type": "code",
   "execution_count": 28,
   "metadata": {},
   "outputs": [],
   "source": [
    "import extract_msg\n",
    "import pandas as pd\n",
    "import os"
   ]
  },
  {
   "cell_type": "code",
   "execution_count": 29,
   "metadata": {},
   "outputs": [],
   "source": [
    "directory = \"../data/mails_msg\" # directory object to be passed to the function for accessing emails\n",
    "ext = '.msg' # type of files in the folder to be read\n",
    "\n",
    "my_list = []\n",
    "df = pd.DataFrame()\n",
    "\n",
    "for i in os.listdir(directory):\n",
    "    if i.endswith(ext):\n",
    "        msg = extract_msg.Message(directory+\"/\"+i)\n",
    "        my_list.append([msg.filename,msg.sender,msg.to, msg.date, msg.subject, msg.body])\n",
    "df = pd.DataFrame(my_list, columns = ['File Name','From','To','Date','Subject','MailBody Text'])"
   ]
  },
  {
   "cell_type": "code",
   "execution_count": 30,
   "metadata": {},
   "outputs": [
    {
     "data": {
      "text/html": [
       "<div>\n",
       "<style scoped>\n",
       "    .dataframe tbody tr th:only-of-type {\n",
       "        vertical-align: middle;\n",
       "    }\n",
       "\n",
       "    .dataframe tbody tr th {\n",
       "        vertical-align: top;\n",
       "    }\n",
       "\n",
       "    .dataframe thead th {\n",
       "        text-align: right;\n",
       "    }\n",
       "</style>\n",
       "<table border=\"1\" class=\"dataframe\">\n",
       "  <thead>\n",
       "    <tr style=\"text-align: right;\">\n",
       "      <th></th>\n",
       "      <th>File Name</th>\n",
       "      <th>From</th>\n",
       "      <th>To</th>\n",
       "      <th>Date</th>\n",
       "      <th>Subject</th>\n",
       "      <th>MailBody Text</th>\n",
       "    </tr>\n",
       "  </thead>\n",
       "  <tbody>\n",
       "    <tr>\n",
       "      <th>0</th>\n",
       "      <td>../data/mails_msg/RE_ Vraag omtrent btw-plicht...</td>\n",
       "      <td>Marianne Bourgeois &lt;marianne.bourgeois@cib.be&gt;</td>\n",
       "      <td>Katrien Wouters &lt;info@katrienwouters.be&gt;</td>\n",
       "      <td>2023-06-01 11:19:57+02:00</td>\n",
       "      <td>RE: Vraag omtrent btw-plicht bij verhuur</td>\n",
       "      <td>Geachte mevrouw Wouters,\\r\\n\\r\\nBeste Katrien,...</td>\n",
       "    </tr>\n",
       "    <tr>\n",
       "      <th>1</th>\n",
       "      <td>../data/mails_msg/RE_ klopt dit_.msg</td>\n",
       "      <td>Marianne Bourgeois &lt;marianne.bourgeois@cib.be&gt;</td>\n",
       "      <td>Joëlle | Huyzen Vastgoed &lt;info@huyzen.be&gt;</td>\n",
       "      <td>2024-03-21 08:11:27+01:00</td>\n",
       "      <td>RE: klopt dit?</td>\n",
       "      <td>Beste Joëlle,\\r\\n\\r\\n \\r\\n\\r\\nIk kom terug op ...</td>\n",
       "    </tr>\n",
       "    <tr>\n",
       "      <th>2</th>\n",
       "      <td>../data/mails_msg/RE_ Voogd.msg</td>\n",
       "      <td>Marianne Bourgeois &lt;marianne.bourgeois@cib.be&gt;</td>\n",
       "      <td>Dana Decae &lt;info@partnersinvastgoed.be&gt;</td>\n",
       "      <td>2024-01-11 09:31:39+01:00</td>\n",
       "      <td>RE: Voogd</td>\n",
       "      <td>Geachte mevrouw,\\r\\n\\r\\n \\r\\n\\r\\nIk neem kenni...</td>\n",
       "    </tr>\n",
       "    <tr>\n",
       "      <th>3</th>\n",
       "      <td>../data/mails_msg/RE_ Vraag correctiefactor hu...</td>\n",
       "      <td>Céline Van den Berghe &lt;celine.van.den.berghe@c...</td>\n",
       "      <td>Sofie Van Gorp &lt;sofievg@heylenvastgoed.be&gt;</td>\n",
       "      <td>2024-01-23 16:07:23+01:00</td>\n",
       "      <td>RE: Vraag correctiefactor huur</td>\n",
       "      <td>Geachte mevrouw,\\r\\n\\r\\n \\r\\n\\r\\nDat klopt ind...</td>\n",
       "    </tr>\n",
       "    <tr>\n",
       "      <th>4</th>\n",
       "      <td>../data/mails_msg/Vraag beroepsverkoper.msg</td>\n",
       "      <td>Céline Van den Berghe &lt;celine.van.den.berghe@c...</td>\n",
       "      <td>\"Wilson Kris (IC)\" &lt;kris.wilson@vanbredaimmoco...</td>\n",
       "      <td>2023-12-06 14:51:26+01:00</td>\n",
       "      <td>Vraag beroepsverkoper</td>\n",
       "      <td>Geachte heer, \\r\\n\\r\\n \\r\\n\\r\\nUw onderstaande...</td>\n",
       "    </tr>\n",
       "  </tbody>\n",
       "</table>\n",
       "</div>"
      ],
      "text/plain": [
       "                                           File Name  \\\n",
       "0  ../data/mails_msg/RE_ Vraag omtrent btw-plicht...   \n",
       "1               ../data/mails_msg/RE_ klopt dit_.msg   \n",
       "2                    ../data/mails_msg/RE_ Voogd.msg   \n",
       "3  ../data/mails_msg/RE_ Vraag correctiefactor hu...   \n",
       "4        ../data/mails_msg/Vraag beroepsverkoper.msg   \n",
       "\n",
       "                                                From  \\\n",
       "0     Marianne Bourgeois <marianne.bourgeois@cib.be>   \n",
       "1     Marianne Bourgeois <marianne.bourgeois@cib.be>   \n",
       "2     Marianne Bourgeois <marianne.bourgeois@cib.be>   \n",
       "3  Céline Van den Berghe <celine.van.den.berghe@c...   \n",
       "4  Céline Van den Berghe <celine.van.den.berghe@c...   \n",
       "\n",
       "                                                  To  \\\n",
       "0           Katrien Wouters <info@katrienwouters.be>   \n",
       "1          Joëlle | Huyzen Vastgoed <info@huyzen.be>   \n",
       "2            Dana Decae <info@partnersinvastgoed.be>   \n",
       "3         Sofie Van Gorp <sofievg@heylenvastgoed.be>   \n",
       "4  \"Wilson Kris (IC)\" <kris.wilson@vanbredaimmoco...   \n",
       "\n",
       "                       Date                                   Subject  \\\n",
       "0 2023-06-01 11:19:57+02:00  RE: Vraag omtrent btw-plicht bij verhuur   \n",
       "1 2024-03-21 08:11:27+01:00                            RE: klopt dit?   \n",
       "2 2024-01-11 09:31:39+01:00                                 RE: Voogd   \n",
       "3 2024-01-23 16:07:23+01:00           RE: Vraag correctiefactor huur    \n",
       "4 2023-12-06 14:51:26+01:00                     Vraag beroepsverkoper   \n",
       "\n",
       "                                       MailBody Text  \n",
       "0  Geachte mevrouw Wouters,\\r\\n\\r\\nBeste Katrien,...  \n",
       "1  Beste Joëlle,\\r\\n\\r\\n \\r\\n\\r\\nIk kom terug op ...  \n",
       "2  Geachte mevrouw,\\r\\n\\r\\n \\r\\n\\r\\nIk neem kenni...  \n",
       "3  Geachte mevrouw,\\r\\n\\r\\n \\r\\n\\r\\nDat klopt ind...  \n",
       "4  Geachte heer, \\r\\n\\r\\n \\r\\n\\r\\nUw onderstaande...  "
      ]
     },
     "execution_count": 30,
     "metadata": {},
     "output_type": "execute_result"
    }
   ],
   "source": [
    "df.head()"
   ]
  },
  {
   "cell_type": "code",
   "execution_count": 35,
   "metadata": {},
   "outputs": [
    {
     "name": "stdout",
     "output_type": "stream",
     "text": [
      "KEY:: None\n"
     ]
    },
    {
     "ename": "NameError",
     "evalue": "name 'df_non_app' is not defined",
     "output_type": "error",
     "traceback": [
      "\u001b[0;31m---------------------------------------------------------------------------\u001b[0m",
      "\u001b[0;31mNameError\u001b[0m                                 Traceback (most recent call last)",
      "Cell \u001b[0;32mIn[35], line 21\u001b[0m\n\u001b[1;32m     15\u001b[0m \u001b[38;5;28mprint\u001b[39m(\u001b[38;5;124m\"\u001b[39m\u001b[38;5;124mKEY::\u001b[39m\u001b[38;5;124m\"\u001b[39m, \u001b[38;5;28mstr\u001b[39m(os\u001b[38;5;241m.\u001b[39menviron\u001b[38;5;241m.\u001b[39mget(\u001b[38;5;124m\"\u001b[39m\u001b[38;5;124mOPENAI_API_KEY\u001b[39m\u001b[38;5;124m\"\u001b[39m))[:\u001b[38;5;241m10\u001b[39m])\n\u001b[1;32m     16\u001b[0m \u001b[38;5;66;03m# add embedding column\u001b[39;00m\n\u001b[1;32m     17\u001b[0m \n\u001b[1;32m     18\u001b[0m \n\u001b[1;32m     19\u001b[0m \n\u001b[1;32m     20\u001b[0m \u001b[38;5;66;03m# Dump pandas df to csv\u001b[39;00m\n\u001b[0;32m---> 21\u001b[0m \u001b[43mdf_non_app\u001b[49m\u001b[38;5;241m.\u001b[39mto_csv(\u001b[38;5;124m\"\u001b[39m\u001b[38;5;124mdf_non_app.csv\u001b[39m\u001b[38;5;124m\"\u001b[39m, index\u001b[38;5;241m=\u001b[39m\u001b[38;5;28;01mFalse\u001b[39;00m)\n\u001b[1;32m     24\u001b[0m \u001b[38;5;66;03m# convert string of list to list of float python\u001b[39;00m\n\u001b[1;32m     25\u001b[0m \u001b[38;5;28;01mdef\u001b[39;00m \u001b[38;5;21mconvert_to_list\u001b[39m(string):\n\u001b[1;32m     26\u001b[0m     \u001b[38;5;66;03m# Remove leading and trailing brackets\u001b[39;00m\n",
      "\u001b[0;31mNameError\u001b[0m: name 'df_non_app' is not defined"
     ]
    }
   ],
   "source": [
    "# Embed each row in pandas df using openai ada model\n",
    "\n",
    "import pandas as pd\n",
    "import numpy as np\n",
    "import os\n",
    "import json\n",
    "import openai\n",
    "import time\n",
    "import sys\n",
    "import re\n",
    "\n",
    "# Set up openai api key\n",
    "openai.api_key = os.environ.get(\"OPENAI_API_KEY\")\n",
    "\n",
    "print(\"KEY::\", str(os.environ.get(\"OPENAI_API_KEY\"))[:10])\n",
    "# add embedding column\n",
    "\n",
    "\n",
    "\n",
    "# Dump pandas df to csv\n",
    "df.to_csv(\"df_non_app.csv\", index=False)\n",
    "\n",
    "\n",
    "# convert string of list to list of float python\n",
    "def convert_to_list(string):\n",
    "    # Remove leading and trailing brackets\n",
    "    string = string[1:-1]\n",
    "    # Split string into list of strings\n",
    "    string_list = string.split(\",\")\n",
    "    # Convert each string to float\n",
    "    float_list = [float(x) for x in string_list]\n",
    "    return float_list"
   ]
  },
  {
   "cell_type": "code",
   "execution_count": null,
   "metadata": {},
   "outputs": [],
   "source": []
  },
  {
   "cell_type": "code",
   "execution_count": null,
   "metadata": {},
   "outputs": [],
   "source": []
  },
  {
   "cell_type": "code",
   "execution_count": null,
   "metadata": {},
   "outputs": [],
   "source": []
  },
  {
   "cell_type": "code",
   "execution_count": null,
   "metadata": {},
   "outputs": [],
   "source": []
  }
 ],
 "metadata": {
  "kernelspec": {
   "display_name": ".venv",
   "language": "python",
   "name": "python3"
  },
  "language_info": {
   "codemirror_mode": {
    "name": "ipython",
    "version": 3
   },
   "file_extension": ".py",
   "mimetype": "text/x-python",
   "name": "python",
   "nbconvert_exporter": "python",
   "pygments_lexer": "ipython3",
   "version": "3.9.8"
  }
 },
 "nbformat": 4,
 "nbformat_minor": 2
}
